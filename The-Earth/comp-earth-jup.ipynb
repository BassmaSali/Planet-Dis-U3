{
 "cells": [
  {
   "cell_type": "code",
   "execution_count": 1,
   "metadata": {},
   "outputs": [],
   "source": [
    "import spiceypy\n",
    "# Allows us to convert to ephemeris time"
   ]
  },
  {
   "cell_type": "code",
   "execution_count": 4,
   "metadata": {},
   "outputs": [],
   "source": [
    "import datetime\n",
    "date_today = datetime.datetime.today()\n",
    "\n",
    "date_today = date_today.strftime(\"%Y-%m-%dT00:00:00\")"
   ]
  },
  {
   "cell_type": "code",
   "execution_count": 5,
   "metadata": {},
   "outputs": [
    {
     "name": "stdout",
     "output_type": "stream",
     "text": [
      "2024-09-28T00:00:00\n"
     ]
    }
   ],
   "source": [
    "print(date_today)"
   ]
  },
  {
   "cell_type": "code",
   "execution_count": 7,
   "metadata": {},
   "outputs": [],
   "source": [
    "spiceypy.furnsh(\"../kernels/lsk/naif0012.tls.txt\")\n",
    "spiceypy.furnsh(\"../kernels/spk/de432s.bsp\")"
   ]
  },
  {
   "cell_type": "code",
   "execution_count": 8,
   "metadata": {},
   "outputs": [
    {
     "name": "stdout",
     "output_type": "stream",
     "text": [
      "780753669.1823555\n"
     ]
    }
   ],
   "source": [
    "et_today_midnight = spiceypy.utc2et(date_today)\n",
    "print(et_today_midnight)"
   ]
  },
  {
   "cell_type": "code",
   "execution_count": 11,
   "metadata": {},
   "outputs": [
    {
     "name": "stdout",
     "output_type": "stream",
     "text": [
      "[ 1.49333121e+08  1.31194714e+07 -1.94466328e+03 -3.08353468e+00\n",
      "  2.95698126e+01 -1.03326126e-03]\n"
     ]
    }
   ],
   "source": [
    "# spkgeo calculates the geometric state (position and velocity) of a target object (the earth) relative to an observer (being the sun)\n",
    "earth_state_wrt_sun, earth_sun_light_time = spiceypy.spkgeo(targ=399, et=et_today_midnight, \n",
    "                                                            ref=\"ECLIPJ2000\", obs=10)\n",
    "print(earth_state_wrt_sun)"
   ]
  }
 ],
 "metadata": {
  "kernelspec": {
   "display_name": "Python 3",
   "language": "python",
   "name": "python3"
  },
  "language_info": {
   "codemirror_mode": {
    "name": "ipython",
    "version": 3
   },
   "file_extension": ".py",
   "mimetype": "text/x-python",
   "name": "python",
   "nbconvert_exporter": "python",
   "pygments_lexer": "ipython3",
   "version": "3.10.8"
  }
 },
 "nbformat": 4,
 "nbformat_minor": 2
}
