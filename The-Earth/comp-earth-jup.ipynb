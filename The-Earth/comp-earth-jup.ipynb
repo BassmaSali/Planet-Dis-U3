{
 "cells": [
  {
   "cell_type": "code",
   "execution_count": 1,
   "metadata": {},
   "outputs": [],
   "source": [
    "import spiceypy\n",
    "# Allows us to convert to ephemeris time"
   ]
  },
  {
   "cell_type": "code",
   "execution_count": 4,
   "metadata": {},
   "outputs": [],
   "source": [
    "import datetime\n",
    "date_today = datetime.datetime.today()\n",
    "\n",
    "date_today = date_today.strftime(\"%Y-%m-%dT00:00:00\")"
   ]
  },
  {
   "cell_type": "code",
   "execution_count": 5,
   "metadata": {},
   "outputs": [
    {
     "name": "stdout",
     "output_type": "stream",
     "text": [
      "2024-09-28T00:00:00\n"
     ]
    }
   ],
   "source": [
    "print(date_today)"
   ]
  },
  {
   "cell_type": "code",
   "execution_count": 7,
   "metadata": {},
   "outputs": [],
   "source": [
    "spiceypy.furnsh(\"../kernels/lsk/naif0012.tls.txt\")\n",
    "spiceypy.furnsh(\"../kernels/spk/de432s.bsp\")"
   ]
  },
  {
   "cell_type": "code",
   "execution_count": 8,
   "metadata": {},
   "outputs": [
    {
     "name": "stdout",
     "output_type": "stream",
     "text": [
      "780753669.1823555\n"
     ]
    }
   ],
   "source": [
    "et_today_midnight = spiceypy.utc2et(date_today)\n",
    "print(et_today_midnight)"
   ]
  },
  {
   "cell_type": "code",
   "execution_count": 11,
   "metadata": {},
   "outputs": [
    {
     "name": "stdout",
     "output_type": "stream",
     "text": [
      "[ 1.49333121e+08  1.31194714e+07 -1.94466328e+03 -3.08353468e+00\n",
      "  2.95698126e+01 -1.03326126e-03]\n"
     ]
    }
   ],
   "source": [
    "# spkgeo calculates the geometric state (position and velocity) of a target object (the earth) relative to an observer (being the sun)\n",
    "earth_state_wrt_sun, earth_sun_light_time = spiceypy.spkgeo(targ=399, et=et_today_midnight, \n",
    "                                                            ref=\"ECLIPJ2000\", obs=10)\n",
    "print(earth_state_wrt_sun)"
   ]
  },
  {
   "cell_type": "code",
   "execution_count": 12,
   "metadata": {},
   "outputs": [
    {
     "name": "stdout",
     "output_type": "stream",
     "text": [
      "149908310.75173977\n"
     ]
    }
   ],
   "source": [
    "import math\n",
    "earth_sun_distance = math.sqrt(earth_state_wrt_sun[0] ** 2.0\n",
    "                               + earth_state_wrt_sun[1] ** 2.0\n",
    "                               + earth_state_wrt_sun[2] ** 2.0)\n",
    "print(earth_sun_distance)\n",
    "# Roughly 150,000,000 (million) km"
   ]
  },
  {
   "cell_type": "code",
   "execution_count": 13,
   "metadata": {},
   "outputs": [
    {
     "name": "stdout",
     "output_type": "stream",
     "text": [
      "1.0020751641502477\n"
     ]
    }
   ],
   "source": [
    "# Converting value into astronomical units\n",
    "earth_sun_distance_au = spiceypy.convrt(earth_sun_distance, \"km\", \"au\")\n",
    "print(earth_sun_distance_au)"
   ]
  },
  {
   "cell_type": "code",
   "execution_count": 17,
   "metadata": {},
   "outputs": [
    {
     "name": "stdout",
     "output_type": "stream",
     "text": [
      "State vector of the Earth w.r.t. the Sun for 2024-09-28T00:00:00 (midnight):\n",
      "[ 1.49333121e+08  1.31194714e+07 -1.94466328e+03 -3.08353468e+00\n",
      "  2.95698126e+01 -1.03326126e-03]\n"
     ]
    }
   ],
   "source": [
    "print(f'State vector of the Earth w.r.t. the Sun for {date_today} (midnight):\\n'\n",
    "      + f'{earth_state_wrt_sun}')"
   ]
  },
  {
   "cell_type": "code",
   "execution_count": 20,
   "metadata": {},
   "outputs": [
    {
     "name": "stdout",
     "output_type": "stream",
     "text": [
      "149908310.75173977\n",
      "29.73015306860409\n"
     ]
    }
   ],
   "source": [
    "import numpy as np\n",
    "\n",
    "# Vector of the earth in respect to the sun converted to numpy array for easier manipulation\n",
    "earth_state_wrt_sun = np.array(earth_state_wrt_sun)\n",
    "\n",
    "# [:3] slices the first 3 coordinates of the array which represent the x, y and z coordinates\n",
    "# np.linalg.norm computes the Euclidean norm (also known as magnitude) of the coordinates. Which provides the straight line distance of the earth from the sun\n",
    "# This is the position\n",
    "earth_sun_distance = np.linalg.norm(earth_state_wrt_sun[:3])\n",
    "\n",
    "# This is the earth's orbital speed relative to the sun. Slices the array to get the last three elements, converted to the Eucilidean norm\n",
    "earth_orb_speed_wrt_sun = np.linalg.norm(earth_state_wrt_sun[3:])\n",
    "\n",
    "print(earth_sun_distance)\n",
    "print(earth_orb_speed_wrt_sun)"
   ]
  },
  {
   "cell_type": "code",
   "execution_count": null,
   "metadata": {},
   "outputs": [],
   "source": [
    "# Loads specific kernel file \n",
    "spiceypy.furnsh(\"../kernels/pck/gm_de431.bsp\")\n",
    "_, GM_SUN = spiceypy.bodvcd(bodyid=10, item=\"GM\", maxn=1)\n",
    "\n",
    "\n",
    "v_orb_func = lambda gm, r: np.sqrt(gm/r)"
   ]
  }
 ],
 "metadata": {
  "kernelspec": {
   "display_name": "Python 3",
   "language": "python",
   "name": "python3"
  },
  "language_info": {
   "codemirror_mode": {
    "name": "ipython",
    "version": 3
   },
   "file_extension": ".py",
   "mimetype": "text/x-python",
   "name": "python",
   "nbconvert_exporter": "python",
   "pygments_lexer": "ipython3",
   "version": "3.10.8"
  }
 },
 "nbformat": 4,
 "nbformat_minor": 2
}
